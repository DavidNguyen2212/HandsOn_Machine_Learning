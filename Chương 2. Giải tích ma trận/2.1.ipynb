{
 "cells": [
  {
   "cell_type": "code",
   "execution_count": 24,
   "metadata": {},
   "outputs": [
    {
     "ename": "ModuleNotFoundError",
     "evalue": "No module named 'pandas'",
     "output_type": "error",
     "traceback": [
      "\u001b[1;31m---------------------------------------------------------------------------\u001b[0m",
      "\u001b[1;31mModuleNotFoundError\u001b[0m                       Traceback (most recent call last)",
      "Cell \u001b[1;32mIn[24], line 3\u001b[0m\n\u001b[0;32m      1\u001b[0m \u001b[38;5;28;01mfrom\u001b[39;00m \u001b[38;5;21;01m__future__\u001b[39;00m \u001b[38;5;28;01mimport\u001b[39;00m print_function\n\u001b[0;32m      2\u001b[0m \u001b[38;5;28;01mimport\u001b[39;00m \u001b[38;5;21;01mnumpy\u001b[39;00m \u001b[38;5;28;01mas\u001b[39;00m \u001b[38;5;21;01mnp\u001b[39;00m\n\u001b[1;32m----> 3\u001b[0m \u001b[38;5;28;01mimport\u001b[39;00m \u001b[38;5;21;01mpandas\u001b[39;00m \u001b[38;5;28;01mas\u001b[39;00m \u001b[38;5;21;01mpd\u001b[39;00m\n",
      "\u001b[1;31mModuleNotFoundError\u001b[0m: No module named 'pandas'"
     ]
    }
   ],
   "source": [
    "from __future__ import print_function\n",
    "import numpy as np"
   ]
  },
  {
   "cell_type": "code",
   "execution_count": 17,
   "metadata": {},
   "outputs": [
    {
     "name": "stdout",
     "output_type": "stream",
     "text": [
      "Ma tran X:  [[0.93830579 0.2318229 ]\n",
      " [0.57123808 0.17671346]\n",
      " [0.61109458 0.16188707]]\n",
      "Kích thước ma trận X:  (3, 2)\n",
      "Ma trận X với 0:  [[0. 0.]\n",
      " [0. 0.]\n",
      " [0. 0.]]\n",
      "X làm phẳng:  [0.93830579 0.2318229  0.57123808 0.17671346 0.61109458 0.16188707]\n",
      "Chuyển X về 2*3 [[0.93830579 0.2318229  0.57123808]\n",
      " [0.17671346 0.61109458 0.16188707]]\n"
     ]
    }
   ],
   "source": [
    "# Một số hàm sẽ dùng\n",
    "# Hàm rand(x,y) tạo ra ma trận kích thước m*n, các phần tử là random trong (0,1] trên phân phối đều (uniformDis)\n",
    "X = np.random.rand(3, 2) \n",
    "print(\"Ma tran X: \", X)\n",
    "size = X.shape  # .shape trả về property shape là một tuple m*n: (m, n)\n",
    "print(\"Kích thước ma trận X: \", size)\n",
    "# Hàm np.zeros_like(X) trả về ma trận giống X nhưng toàn là 0\n",
    "zeros_X = np.zeros_like(X)\n",
    "print(\"Ma trận X với 0: \", zeros_X)\n",
    "# Hàm đối tượng .reshape(-1) của ndarray làm phẳng ma trận\n",
    "X_flat = X.reshape(-1)\n",
    "print(\"X làm phẳng: \", X_flat)\n",
    "# Hàm đối tượng .reshape((a,b)) cố gắng chuyển ma trận cũ thành kích thước a*b\n",
    "X = X_flat.reshape((2,3))\n",
    "print(\"Chuyển X về 2*3\", X)\n"
   ]
  },
  {
   "cell_type": "code",
   "execution_count": 19,
   "metadata": {},
   "outputs": [
    {
     "name": "stdout",
     "output_type": "stream",
     "text": [
      "Num_grad:  [[0.81542667 0.74452236 0.1146039 ]\n",
      " [0.58106663 0.73554514 0.12444742]\n",
      " [0.22326838 0.48301633 0.99415231]\n",
      " [0.09553278 0.60886831 0.78108107]]\n",
      "Gr(x) =  [[0.81542667 0.74452236 0.1146039 ]\n",
      " [0.58106663 0.73554514 0.12444742]\n",
      " [0.22326838 0.48301633 0.99415231]\n",
      " [0.09553278 0.60886831 0.78108107]]\n",
      "Hieu:  [[-6.61133370e-11 -2.00202077e-11  1.38082878e-11]\n",
      " [ 1.23677402e-10 -2.24651409e-11 -2.12770357e-10]\n",
      " [-6.09297057e-11 -5.64027713e-11 -2.11058948e-11]\n",
      " [ 1.92789562e-10 -2.19029239e-11 -8.84198270e-11]]\n",
      "Difference between two methods should be small:  3.4473067379501283e-10\n",
      "Num_grad:  [[2.21622454]\n",
      " [2.69267436]\n",
      " [0.56124278]]\n",
      "Gr(x) =  [[2.21622454]\n",
      " [2.69267436]\n",
      " [0.56124278]]\n",
      "Hieu:  [[-6.64819311e-11]\n",
      " [ 4.60342875e-11]\n",
      " [ 2.70644618e-11]]\n",
      "Difference between two methods should be small:  8.527301962266641e-11\n"
     ]
    },
    {
     "name": "stderr",
     "output_type": "stream",
     "text": [
      "C:\\Users\\DELL\\AppData\\Local\\Temp\\ipykernel_19276\\326430466.py:23: DeprecationWarning: Conversion of an array with ndim > 0 to a scalar is deprecated, and will error in future. Ensure you extract a single element from your array before performing this operation. (Deprecated NumPy 1.25.)\n",
      "  grad_flat[i] = (fn(Xp) - fn(Xn)) / (2*eps)     # Tính đạo hàm theo numerical\n"
     ]
    }
   ],
   "source": [
    "# Đoạn code sau kiểm tra đạo hàm của hàm khả vi f: R(mxn) -> R có kèm theo hai ví dụ\n",
    "\n",
    "def check_grad(fn, gr, X):\n",
    "    X_flat = X.reshape(-1)  # truyền -1 để chuyển đổi X thành array 1d => cần 1 for loop\n",
    "    shape_X = X.shape       # hình dạng gốc của X\n",
    "    # Khởi tạo ma trận num_grad có cùng hình dạng như X với tất cả các phần tử \n",
    "    # được đặt bằng 0. Ma trận này sẽ chứa gradient tính toán.\n",
    "    num_grad = np.zeros_like(X)     \n",
    "    # như lệnh trên nhưng dùng cho X đã flatten\n",
    "    grad_flat = np.zeros_like(X_flat)   \n",
    "    eps = 1e-6      # epsilon, chọn 1e-10 -> 1e-6 thường tốt\n",
    "    numElems = X_flat.shape[0]      # số phần tử trong X, ma trận m * n  thì shape[0] = m\n",
    "\n",
    "    # Tính đạo hàm theo numerical\n",
    "    # For loop qua các phần tử trong X\n",
    "    for i in range(numElems):\n",
    "        Xp_flat = X_flat.copy()\n",
    "        Xn_flat = X_flat.copy()\n",
    "        Xp_flat[i] += eps\n",
    "        Xn_flat[i] -= eps\n",
    "        Xp = Xp_flat.reshape(shape_X)\n",
    "        Xn = Xn_flat.reshape(shape_X)\n",
    "        grad_flat[i] = (fn(Xp) - fn(Xn)) / (2*eps)     # Tính đạo hàm theo numerical\n",
    "    \n",
    "    num_grad = grad_flat.reshape(shape_X)\n",
    "    print(\"Num_grad: \", num_grad)\n",
    "    print(\"Gr(x) = \", gr(X))\n",
    "    print(\"Hieu: \", num_grad - gr(X))\n",
    "    diff = np.linalg.norm(num_grad - gr(X)) # tính sai khác bằng chuẩn Euclide\n",
    "\n",
    "    print(\"Difference between two methods should be small: \", diff)\n",
    "\n",
    "# === Kiểm ra xem grad(trace(A*X) == A^T) ===\n",
    "m, n = 3, 4\n",
    "A = np.random.rand(m, n)    # trả về list (ma trận) m * n với các số random [0, 1)\n",
    "X = np.random.rand(n, m)\n",
    "\n",
    "def fn1(X):\n",
    "    return np.trace(A.dot(X))\n",
    "def gr1(X):\n",
    "    return A.T\n",
    "check_grad(fn1, gr1, X)\n",
    "\n",
    "# === Kiểm tra xem grad(x^T*A*x) == (A + A^T)*x\n",
    "A = np.random.rand(m, m)\n",
    "x = np.random.rand(m, 1)\n",
    "\n",
    "def fn2(x):\n",
    "    return x.T.dot(A).dot(x)\n",
    "def gr2(x):\n",
    "    return (A + A.T).dot(x)\n",
    "check_grad(fn2, gr2, x)\n"
   ]
  },
  {
   "cell_type": "code",
   "execution_count": 23,
   "metadata": {},
   "outputs": [
    {
     "data": {
      "text/plain": [
       "5.291502622129181"
      ]
     },
     "execution_count": 23,
     "metadata": {},
     "output_type": "execute_result"
    }
   ],
   "source": [
    "A = np.array([[1,2,3],[2,3,1]])\n",
    "A\n",
    "np.linalg.norm(A)"
   ]
  }
 ],
 "metadata": {
  "kernelspec": {
   "display_name": "Python 3",
   "language": "python",
   "name": "python3"
  },
  "language_info": {
   "codemirror_mode": {
    "name": "ipython",
    "version": 3
   },
   "file_extension": ".py",
   "mimetype": "text/x-python",
   "name": "python",
   "nbconvert_exporter": "python",
   "pygments_lexer": "ipython3",
   "version": "3.12.2"
  }
 },
 "nbformat": 4,
 "nbformat_minor": 2
}
